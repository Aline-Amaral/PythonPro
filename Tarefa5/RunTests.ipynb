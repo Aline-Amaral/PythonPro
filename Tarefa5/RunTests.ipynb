{
 "cells": [
  {
   "cell_type": "code",
   "execution_count": 1,
   "id": "ed4dc1e6",
   "metadata": {},
   "outputs": [
    {
     "name": "stdout",
     "output_type": "stream",
     "text": [
      "============================= test session starts =============================\n",
      "platform win32 -- Python 3.10.5, pytest-7.1.2, pluggy-1.0.0\n",
      "rootdir: C:\\Users\\morea\\Documents\\Mentorama\\PythonPro\\PythonPro\\Tarefa5\n",
      "collected 4 items\n",
      "\n",
      "test_identify.py ....                                                    [100%]\n",
      "\n",
      "============================== 4 passed in 0.00s ==============================\n"
     ]
    }
   ],
   "source": [
    "!python3 -m pytest test_identify.py"
   ]
  }
 ],
 "metadata": {
  "kernelspec": {
   "display_name": "Python 3 (ipykernel)",
   "language": "python",
   "name": "python3"
  },
  "language_info": {
   "codemirror_mode": {
    "name": "ipython",
    "version": 3
   },
   "file_extension": ".py",
   "mimetype": "text/x-python",
   "name": "python",
   "nbconvert_exporter": "python",
   "pygments_lexer": "ipython3",
   "version": "3.9.12"
  }
 },
 "nbformat": 4,
 "nbformat_minor": 5
}
