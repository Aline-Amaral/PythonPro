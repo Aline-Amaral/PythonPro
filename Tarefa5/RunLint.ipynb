{
 "cells": [
  {
   "cell_type": "markdown",
   "id": "34aa2e3e",
   "metadata": {},
   "source": [
    "### Primeiramente vamos instalar as nossas bibliotecas de lint"
   ]
  },
  {
   "cell_type": "code",
   "execution_count": 1,
   "id": "3709f140",
   "metadata": {},
   "outputs": [
    {
     "name": "stdout",
     "output_type": "stream",
     "text": [
      "Requirement already satisfied: pylint in c:\\users\\morea\\anaconda3\\lib\\site-packages (2.9.6)Note: you may need to restart the kernel to use updated packages.\n",
      "Requirement already satisfied: mccabe<0.7,>=0.6 in c:\\users\\morea\\anaconda3\\lib\\site-packages (from pylint) (0.6.1)\n",
      "Requirement already satisfied: toml>=0.7.1 in c:\\users\\morea\\anaconda3\\lib\\site-packages (from pylint) (0.10.2)\n",
      "Requirement already satisfied: isort<6,>=4.2.5 in c:\\users\\morea\\anaconda3\\lib\\site-packages (from pylint) (5.9.3)\n",
      "Requirement already satisfied: astroid<2.7,>=2.6.5 in c:\\users\\morea\\anaconda3\\lib\\site-packages (from pylint) (2.6.6)\n",
      "Requirement already satisfied: colorama in c:\\users\\morea\\anaconda3\\lib\\site-packages (from pylint) (0.4.4)\n",
      "Requirement already satisfied: lazy-object-proxy>=1.4.0 in c:\\users\\morea\\anaconda3\\lib\\site-packages (from astroid<2.7,>=2.6.5->pylint) (1.6.0)\n",
      "Requirement already satisfied: setuptools>=20.0 in c:\\users\\morea\\anaconda3\\lib\\site-packages (from astroid<2.7,>=2.6.5->pylint) (61.2.0)\n",
      "Requirement already satisfied: wrapt<1.13,>=1.11 in c:\\users\\morea\\anaconda3\\lib\\site-packages (from astroid<2.7,>=2.6.5->pylint) (1.12.1)\n",
      "\n"
     ]
    }
   ],
   "source": [
    "%pip install pylint"
   ]
  },
  {
   "cell_type": "code",
   "execution_count": 3,
   "id": "9602a499",
   "metadata": {},
   "outputs": [
    {
     "name": "stdout",
     "output_type": "stream",
     "text": [
      "Requirement already satisfied: pycodestyle in c:\\users\\morea\\anaconda3\\lib\\site-packages (2.7.0)\n",
      "Note: you may need to restart the kernel to use updated packages.\n"
     ]
    }
   ],
   "source": [
    "%pip install pycodestyle"
   ]
  },
  {
   "cell_type": "markdown",
   "id": "77b22638",
   "metadata": {},
   "source": [
    "### Vamos verificar com cada biblioteca o que elas vão nos apontar em cada arquivo"
   ]
  },
  {
   "cell_type": "code",
   "execution_count": 1,
   "id": "fb00eada",
   "metadata": {},
   "outputs": [
    {
     "name": "stdout",
     "output_type": "stream",
     "text": [
      "\n",
      "--------------------------------------------------------------------\n",
      "\n",
      "Your code has been rated at 10.00/10 (previous run: 10.00/10, +0.00)\n",
      "\n",
      "\n",
      "\n"
     ]
    }
   ],
   "source": [
    "!python -m pylint identify.py"
   ]
  },
  {
   "cell_type": "code",
   "execution_count": 2,
   "id": "77bdd844",
   "metadata": {},
   "outputs": [],
   "source": [
    "!python -m pycodestyle identify.py"
   ]
  },
  {
   "cell_type": "code",
   "execution_count": 3,
   "id": "9a7ca050",
   "metadata": {},
   "outputs": [
    {
     "name": "stdout",
     "output_type": "stream",
     "text": [
      "\n",
      "--------------------------------------------------------------------\n",
      "\n",
      "Your code has been rated at 10.00/10 (previous run: 10.00/10, +0.00)\n",
      "\n",
      "\n",
      "\n"
     ]
    }
   ],
   "source": [
    "!python -m pylint main.py"
   ]
  },
  {
   "cell_type": "code",
   "execution_count": 4,
   "id": "1b73deea",
   "metadata": {},
   "outputs": [],
   "source": [
    "!python -m pycodestyle main.py"
   ]
  }
 ],
 "metadata": {
  "kernelspec": {
   "display_name": "Python 3 (ipykernel)",
   "language": "python",
   "name": "python3"
  },
  "language_info": {
   "codemirror_mode": {
    "name": "ipython",
    "version": 3
   },
   "file_extension": ".py",
   "mimetype": "text/x-python",
   "name": "python",
   "nbconvert_exporter": "python",
   "pygments_lexer": "ipython3",
   "version": "3.9.12"
  }
 },
 "nbformat": 4,
 "nbformat_minor": 5
}
